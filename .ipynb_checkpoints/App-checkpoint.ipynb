{
 "cells": [
  {
   "cell_type": "code",
   "execution_count": null,
   "id": "deb55e89",
   "metadata": {},
   "outputs": [
    {
     "name": "stdout",
     "output_type": "stream",
     "text": [
      "@@ Model loaded\n",
      " * Serving Flask app \"__main__\" (lazy loading)\n",
      " * Environment: production\n",
      "   WARNING: This is a development server. Do not use it in a production deployment.\n",
      "   Use a production WSGI server instead.\n",
      " * Debug mode: off\n"
     ]
    },
    {
     "name": "stderr",
     "output_type": "stream",
     "text": [
      " * Running on http://127.0.0.1:5000/ (Press CTRL+C to quit)\n",
      "127.0.0.1 - - [21/Sep/2022 20:00:04] \"\u001b[37mGET / HTTP/1.1\u001b[0m\" 200 -\n",
      "127.0.0.1 - - [21/Sep/2022 20:00:04] \"\u001b[33mGET /static/images/horse%20or%20human%20banner.png HTTP/1.1\u001b[0m\" 404 -\n",
      "127.0.0.1 - - [21/Sep/2022 20:00:04] \"\u001b[33mGET /favicon.ico HTTP/1.1\u001b[0m\" 404 -\n",
      "[2022-09-21 20:00:34,141] ERROR in app: Exception on /predict [POST]\n",
      "Traceback (most recent call last):\n",
      "  File \"C:\\Users\\sunde\\anaconda3\\lib\\site-packages\\flask\\app.py\", line 2447, in wsgi_app\n",
      "    response = self.full_dispatch_request()\n",
      "  File \"C:\\Users\\sunde\\anaconda3\\lib\\site-packages\\flask\\app.py\", line 1952, in full_dispatch_request\n",
      "    rv = self.handle_user_exception(e)\n",
      "  File \"C:\\Users\\sunde\\anaconda3\\lib\\site-packages\\flask\\app.py\", line 1821, in handle_user_exception\n",
      "    reraise(exc_type, exc_value, tb)\n",
      "  File \"C:\\Users\\sunde\\anaconda3\\lib\\site-packages\\flask\\_compat.py\", line 39, in reraise\n",
      "    raise value\n",
      "  File \"C:\\Users\\sunde\\anaconda3\\lib\\site-packages\\flask\\app.py\", line 1950, in full_dispatch_request\n",
      "    rv = self.dispatch_request()\n",
      "  File \"C:\\Users\\sunde\\anaconda3\\lib\\site-packages\\flask\\app.py\", line 1936, in dispatch_request\n",
      "    return self.view_functions[rule.endpoint](**req.view_args)\n",
      "  File \"<ipython-input-1-d10c167c56cf>\", line 52, in predict\n",
      "    file.save(file_path)\n",
      "  File \"C:\\Users\\sunde\\anaconda3\\lib\\site-packages\\werkzeug\\datastructures.py\", line 3066, in save\n",
      "    dst = open(dst, \"wb\")\n",
      "FileNotFoundError: [Errno 2] No such file or directory: 'static/user uploaded\\\\22 no.jpg'\n",
      "127.0.0.1 - - [21/Sep/2022 20:00:34] \"\u001b[35m\u001b[1mPOST /predict HTTP/1.1\u001b[0m\" 500 -\n"
     ]
    },
    {
     "name": "stdout",
     "output_type": "stream",
     "text": [
      "@@ Input posted =  22 no.jpg\n"
     ]
    }
   ],
   "source": [
    "from flask import Flask, render_template, request\n",
    " \n",
    "import numpy as np\n",
    "import os\n",
    " \n",
    "from keras.preprocessing.image import load_img\n",
    "from keras.preprocessing.image import img_to_array\n",
    "from keras.models import load_model\n",
    " \n",
    "#load model\n",
    "model =load_model(\"tumor_or_notumor.h5\")\n",
    " \n",
    "print('@@ Model loaded')\n",
    "\n",
    "def pred_human_horse(horse_or_human):\n",
    "    test_image = load_img(horse_or_human, target_size = (150, 150)) # load image \n",
    "    print(\"@@ Got Image for prediction\")\n",
    "   \n",
    "    test_image = img_to_array(test_image)/255 # convert image to np array and normalize\n",
    "    test_image = np.expand_dims(test_image, axis = 0) # change dimention 3D to 4D\n",
    "   \n",
    "    result = model.predict(test_image).round(3) # predict class horse or human\n",
    "    print('@@ Raw result = ', result)\n",
    "   \n",
    "    pred = np.argmax(result) # get the index of max value\n",
    " \n",
    "    if pred == 0:\n",
    "        return \"No Tumor\" # if index 0 \n",
    "    else:\n",
    "        return \"Tumor\" # if index 1\n",
    " \n",
    "#------------>>pred_human_horse<<--end\n",
    "     \n",
    " \n",
    "# Create flask instance\n",
    "app = Flask(__name__)\n",
    " \n",
    "# render index.html page\n",
    "@app.route(\"/\", methods=['GET', 'POST'])\n",
    "def home():\n",
    "        return render_template('index.html')\n",
    "     \n",
    "   \n",
    "@app.route(\"/predict\", methods = ['GET','POST'])\n",
    "def predict():\n",
    "     if request.method == 'POST':\n",
    "        file = request.files['image'] # fet input\n",
    "        filename = file.filename        \n",
    "        print(\"@@ Input posted = \", filename)\n",
    "         \n",
    "        file_path = os.path.join('static/user uploaded', filename)\n",
    "        file.save(file_path)\n",
    " \n",
    "        print(\"@@ Predicting class......\")\n",
    "        pred = pred_human_horse(horse_or_human=file_path)\n",
    "               \n",
    "        return render_template('predict.html', pred_output = pred, user_image = file_path)\n",
    "     \n",
    "#Fo local system\n",
    "if __name__ == \"__main__\":\n",
    "    app.run(threaded=False,) "
   ]
  },
  {
   "cell_type": "code",
   "execution_count": null,
   "id": "386ed56d",
   "metadata": {},
   "outputs": [],
   "source": []
  }
 ],
 "metadata": {
  "kernelspec": {
   "display_name": "Python 3",
   "language": "python",
   "name": "python3"
  },
  "language_info": {
   "codemirror_mode": {
    "name": "ipython",
    "version": 3
   },
   "file_extension": ".py",
   "mimetype": "text/x-python",
   "name": "python",
   "nbconvert_exporter": "python",
   "pygments_lexer": "ipython3",
   "version": "3.8.8"
  }
 },
 "nbformat": 4,
 "nbformat_minor": 5
}

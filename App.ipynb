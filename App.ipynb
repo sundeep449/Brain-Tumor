{
 "cells": [
  {
   "cell_type": "code",
   "execution_count": null,
   "id": "deb55e89",
   "metadata": {},
   "outputs": [
    {
     "name": "stdout",
     "output_type": "stream",
     "text": [
      "@@ Model loaded\n",
      " * Serving Flask app \"__main__\" (lazy loading)\n",
      " * Environment: production\n",
      "   WARNING: This is a development server. Do not use it in a production deployment.\n",
      "   Use a production WSGI server instead.\n",
      " * Debug mode: off\n"
     ]
    },
    {
     "name": "stderr",
     "output_type": "stream",
     "text": [
      " * Running on http://127.0.0.1:5000/ (Press CTRL+C to quit)\n",
      "127.0.0.1 - - [01/Oct/2022 12:41:43] \"\u001b[37mGET / HTTP/1.1\u001b[0m\" 200 -\n",
      "127.0.0.1 - - [01/Oct/2022 12:41:43] \"\u001b[33mGET /abc.jpg HTTP/1.1\u001b[0m\" 404 -\n",
      "127.0.0.1 - - [01/Oct/2022 12:41:43] \"\u001b[33mGET /favicon.ico HTTP/1.1\u001b[0m\" 404 -\n"
     ]
    },
    {
     "name": "stdout",
     "output_type": "stream",
     "text": [
      "@@ Input posted =  Y4.jpg\n",
      "@@ Predicting class......\n",
      "@@ Got Image for prediction\n"
     ]
    },
    {
     "name": "stderr",
     "output_type": "stream",
     "text": [
      "127.0.0.1 - - [01/Oct/2022 12:41:51] \"\u001b[37mPOST /predict HTTP/1.1\u001b[0m\" 200 -\n",
      "127.0.0.1 - - [01/Oct/2022 12:41:51] \"\u001b[37mGET /static/user%20uploaded/Y4.jpg HTTP/1.1\u001b[0m\" 200 -\n",
      "127.0.0.1 - - [01/Oct/2022 12:41:51] \"\u001b[33mGET /abc.jpg HTTP/1.1\u001b[0m\" 404 -\n"
     ]
    },
    {
     "name": "stdout",
     "output_type": "stream",
     "text": [
      "@@ Raw result =  [[0.254 0.746]]\n"
     ]
    },
    {
     "name": "stderr",
     "output_type": "stream",
     "text": [
      "127.0.0.1 - - [01/Oct/2022 12:42:00] \"\u001b[37mGET / HTTP/1.1\u001b[0m\" 200 -\n",
      "127.0.0.1 - - [01/Oct/2022 12:42:00] \"\u001b[33mGET /abc.jpg HTTP/1.1\u001b[0m\" 404 -\n"
     ]
    },
    {
     "name": "stdout",
     "output_type": "stream",
     "text": [
      "@@ Input posted =  1 no.jpeg\n",
      "@@ Predicting class......\n",
      "@@ Got Image for prediction\n"
     ]
    },
    {
     "name": "stderr",
     "output_type": "stream",
     "text": [
      "127.0.0.1 - - [01/Oct/2022 12:42:14] \"\u001b[37mPOST /predict HTTP/1.1\u001b[0m\" 200 -\n",
      "127.0.0.1 - - [01/Oct/2022 12:42:14] \"\u001b[37mGET /static/user%20uploaded/1%20no.jpeg HTTP/1.1\u001b[0m\" 200 -\n",
      "127.0.0.1 - - [01/Oct/2022 12:42:14] \"\u001b[33mGET /abc.jpg HTTP/1.1\u001b[0m\" 404 -\n"
     ]
    },
    {
     "name": "stdout",
     "output_type": "stream",
     "text": [
      "@@ Raw result =  [[0.976 0.024]]\n"
     ]
    }
   ],
   "source": [
    "from flask import Flask, render_template, request\n",
    " \n",
    "import numpy as np\n",
    "import os\n",
    " \n",
    "from keras.preprocessing.image import load_img\n",
    "from keras.preprocessing.image import img_to_array\n",
    "from keras.models import load_model\n",
    " \n",
    "#load model\n",
    "model =load_model(\"tumor_or_notumor.h5\")\n",
    " \n",
    "print('@@ Model loaded')\n",
    "\n",
    "def pred_human_horse(horse_or_human):\n",
    "    test_image = load_img(horse_or_human, target_size = (150, 150)) # load image \n",
    "    print(\"@@ Got Image for prediction\")\n",
    "   \n",
    "    test_image = img_to_array(test_image)/255 # convert image to np array and normalize\n",
    "    test_image = np.expand_dims(test_image, axis = 0) # change dimention 3D to 4D\n",
    "   \n",
    "    result = model.predict(test_image).round(3) # predict class horse or human\n",
    "    print('@@ Raw result = ', result)\n",
    "   \n",
    "    pred = np.argmax(result) # get the index of max value\n",
    " \n",
    "    if pred == 0:\n",
    "        return \"No Tumor\" # if index 0 \n",
    "    else:\n",
    "        return \"Tumor\" # if index 1\n",
    " \n",
    "#------------>>pred_human_horse<<--end\n",
    "     \n",
    " \n",
    "# Create flask instance\n",
    "app = Flask(__name__)\n",
    " \n",
    "# render index.html page\n",
    "@app.route(\"/\", methods=['GET', 'POST'])\n",
    "def home():\n",
    "        return render_template('index.html')\n",
    "     \n",
    "   \n",
    "@app.route(\"/predict\", methods = ['GET','POST'])\n",
    "def predict():\n",
    "     if request.method == 'POST':\n",
    "        file = request.files['image'] # fet input\n",
    "        filename = file.filename        \n",
    "        print(\"@@ Input posted = \", filename)\n",
    "         \n",
    "        file_path = os.path.join('static/user uploaded', filename)\n",
    "        file.save(file_path)\n",
    " \n",
    "        print(\"@@ Predicting class......\")\n",
    "        pred = pred_human_horse(horse_or_human=file_path)\n",
    "               \n",
    "        return render_template('predict.html', pred_output = pred, user_image = file_path)\n",
    "     \n",
    "#Fo local system\n",
    "if __name__ == \"__main__\":\n",
    "    app.run(threaded=False,) "
   ]
  },
  {
   "cell_type": "code",
   "execution_count": null,
   "id": "386ed56d",
   "metadata": {},
   "outputs": [],
   "source": []
  }
 ],
 "metadata": {
  "kernelspec": {
   "display_name": "Python 3",
   "language": "python",
   "name": "python3"
  },
  "language_info": {
   "codemirror_mode": {
    "name": "ipython",
    "version": 3
   },
   "file_extension": ".py",
   "mimetype": "text/x-python",
   "name": "python",
   "nbconvert_exporter": "python",
   "pygments_lexer": "ipython3",
   "version": "3.8.8"
  }
 },
 "nbformat": 4,
 "nbformat_minor": 5
}
